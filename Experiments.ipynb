{
 "cells": [
  {
   "cell_type": "code",
   "execution_count": null,
   "metadata": {
    "collapsed": false
   },
   "outputs": [],
   "source": [
    "from data import train_df, test_df\n",
    "import numpy as np\n",
    "import pandas as pd"
   ]
  },
  {
   "cell_type": "code",
   "execution_count": null,
   "metadata": {
    "collapsed": false
   },
   "outputs": [],
   "source": [
    "train_df.info()"
   ]
  },
  {
   "cell_type": "code",
   "execution_count": null,
   "metadata": {
    "collapsed": false
   },
   "outputs": [],
   "source": [
    "train_df.describe()"
   ]
  },
  {
   "cell_type": "markdown",
   "metadata": {},
   "source": [
    "*Remover entradas que possuem NaN reduz bastante o tamanho do dataset*"
   ]
  },
  {
   "cell_type": "code",
   "execution_count": null,
   "metadata": {
    "collapsed": false
   },
   "outputs": [],
   "source": [
    "train_df.dropna().describe()"
   ]
  },
  {
   "cell_type": "markdown",
   "metadata": {},
   "source": [
    "## Análise inicial"
   ]
  },
  {
   "cell_type": "code",
   "execution_count": null,
   "metadata": {
    "collapsed": false
   },
   "outputs": [],
   "source": [
    "# pra ver quantas pessoas sobreviveram\n",
    "train_df[\"Survived\"].value_counts()"
   ]
  },
  {
   "cell_type": "code",
   "execution_count": null,
   "metadata": {
    "collapsed": false
   },
   "outputs": [],
   "source": [
    "# pra ver os percentuais de quem sobreviveu\n",
    "train_df[\"Survived\"].value_counts(normalize = True)"
   ]
  },
  {
   "cell_type": "code",
   "execution_count": null,
   "metadata": {
    "collapsed": false
   },
   "outputs": [],
   "source": [
    "# quantos homens sobreviveram\n",
    "train_df[\"Survived\"][train_df[\"Sex\"] == 'male'].value_counts(normalize=True)"
   ]
  },
  {
   "cell_type": "code",
   "execution_count": null,
   "metadata": {
    "collapsed": false
   },
   "outputs": [],
   "source": [
    "# quantas mulheres sobreviveram\n",
    "train_df[\"Survived\"][train_df[\"Sex\"] == 'female'].value_counts(normalize=True)"
   ]
  },
  {
   "cell_type": "markdown",
   "metadata": {},
   "source": [
    "Proporcionalmente, um número maior de mulheres sobreviveram. Seria por causa da política de \"mulheres e crianças primeiro\"?"
   ]
  },
  {
   "cell_type": "code",
   "execution_count": null,
   "metadata": {
    "collapsed": false
   },
   "outputs": [],
   "source": [
    "# Existe o campo \"Child\"?\n",
    "train_df.info()"
   ]
  },
  {
   "cell_type": "code",
   "execution_count": null,
   "metadata": {
    "collapsed": false
   },
   "outputs": [],
   "source": [
    "# Completando os valores em branco para a mediana da feature \"Age\".\n",
    "# Usamos mediana ao invés de média por ela ser menos sensível a outliers (i.e., a mediana é uma estatística robusta).\n",
    "train_df['Age'] = train_df[\"Age\"].fillna(train_df[\"Age\"].median())\n",
    "train_df[\"Child\"] = 0\n",
    "children = train_df[\"Age\"] < 18\n",
    "train_df.loc[children, \"Child\"] = 1\n",
    "train_df[\"Survived\"][train_df[\"Child\"] == 0].value_counts(normalize=True)"
   ]
  },
  {
   "cell_type": "code",
   "execution_count": null,
   "metadata": {
    "collapsed": false
   },
   "outputs": [],
   "source": [
    "# A feature 'Sex' precisa ser mapeada para inteiros\n",
    "train_df['Sex'] = train_df['Sex'].map({'male': 0, 'female': 1})"
   ]
  },
  {
   "cell_type": "code",
   "execution_count": null,
   "metadata": {
    "collapsed": true
   },
   "outputs": [],
   "source": [
    "from sklearn import tree"
   ]
  },
  {
   "cell_type": "code",
   "execution_count": null,
   "metadata": {
    "collapsed": false
   },
   "outputs": [],
   "source": [
    "# Vamos usar então as features 'Sex' e 'Child' para uma classificacao inicial\n",
    "\n",
    "# Separando o resultado e as features usadas\n",
    "target = train_df['Survived'].values\n",
    "initial_features = train_df[['Sex', 'Child']].values\n",
    "\n",
    "# Da classifier\n",
    "my_tree_one = tree.DecisionTreeClassifier().fit(initial_features, target)\n",
    "\n",
    "# Vamos checar a importância relativa de cada feature e o score obtido no conjunto de treinamento\n",
    "print(my_tree_one.feature_importances_)\n",
    "print(my_tree_one.score(initial_features, target))"
   ]
  },
  {
   "cell_type": "code",
   "execution_count": null,
   "metadata": {
    "collapsed": true
   },
   "outputs": [],
   "source": [
    "import pydotplus as pydot\n",
    "from sklearn.externals.six import StringIO\n",
    "from IPython.display import Image \n",
    "\n",
    "def plot_tree(da_tree):\n",
    "    dotfile = StringIO()\n",
    "    tree.export_graphviz(da_tree, out_file=dotfile)\n",
    "    graph = pydot.graph_from_dot_data(dotfile.getvalue())\n",
    "    return Image(graph.create_png())"
   ]
  },
  {
   "cell_type": "code",
   "execution_count": null,
   "metadata": {
    "collapsed": false
   },
   "outputs": [],
   "source": [
    "plot_tree(my_tree_one)"
   ]
  },
  {
   "cell_type": "markdown",
   "metadata": {},
   "source": [
    "A árvore de decisão funciona aplicando as decisões de cada nível ao exemplo passado como entrada. Ao se chegar a uma folha, a árvore checa o que aconteceu com a maioria dos exemplos que possuem aquelas características: se a maioria tiver sobrevivido, a árvore decide que o novo exemplo também deve ter sobrevivido. TODO: observações sobre o efeito de permutação de features na árvore resultante."
   ]
  },
  {
   "cell_type": "code",
   "execution_count": null,
   "metadata": {
    "collapsed": false
   },
   "outputs": [],
   "source": [
    "# Por exemplo, existem 55 crianças do sexo feminino no conjunto de treinamento. A maioria delas sobreviveram,\n",
    "# o que pode ser visto na filtragem abaixo...\n",
    "temp = train_df[train_df['Child'] == 1]\n",
    "female_children = temp[temp['Sex'] == 1]\n",
    "female_children.groupby('Survived').describe()"
   ]
  },
  {
   "cell_type": "code",
   "execution_count": null,
   "metadata": {
    "collapsed": true
   },
   "outputs": [],
   "source": [
    "# Vamos definir algumas constantes para ajudar com a legibilidade dos dados.\n",
    "DIED = 0\n",
    "SURVIVED = 1\n",
    "\n",
    "MALE = 0\n",
    "FEMALE = 1    "
   ]
  },
  {
   "cell_type": "code",
   "execution_count": null,
   "metadata": {
    "collapsed": false
   },
   "outputs": [],
   "source": [
    "# ...Logo, ao se passar para a árvore um exemplo consistindo de uma\n",
    "# criança do sexo feminino, a árvore decidirá que ela deve ter sobrevivido.\n",
    "new_female_child = pd.DataFrame(data=[[FEMALE, 1]], columns=['Gender', 'Child'])\n",
    "prediction = my_tree_one.predict(new_female_child)\n",
    "\n",
    "if (prediction[0] == SURVIVED):\n",
    "    print('Survived :D')\n",
    "else:\n",
    "    print('Died :(')"
   ]
  },
  {
   "cell_type": "code",
   "execution_count": null,
   "metadata": {
    "collapsed": true
   },
   "outputs": [],
   "source": [
    "def encode_gender_and_child(input_dataframe):\n",
    "    encoded_dataframe = input_dataframe.copy()\n",
    "    \n",
    "    encoded_dataframe['Sex'] = encoded_dataframe['Sex'].map({'male': MALE, 'female': FEMALE})\n",
    "    \n",
    "    encoded_dataframe['Age'] = encoded_dataframe[\"Age\"].fillna(encoded_dataframe[\"Age\"].median())\n",
    "    encoded_dataframe[\"Child\"] = 0\n",
    "    children = encoded_dataframe[\"Age\"] < 18\n",
    "    encoded_dataframe.loc[children, \"Child\"] = 1\n",
    "    \n",
    "    return encoded_dataframe.drop('Age', 1)\n",
    "\n",
    "def extract_features_from_dataframe(dataframe, feature_names):\n",
    "    return dataframe.ix[:, feature_names]"
   ]
  },
  {
   "cell_type": "code",
   "execution_count": null,
   "metadata": {
    "collapsed": false
   },
   "outputs": [],
   "source": [
    "test_features_df = extract_features_from_dataframe(test_df, ['Sex', 'Age'])\n",
    "encoded_test_df = encode_gender_and_child(test_features_df)\n",
    "\n",
    "test_targets = my_tree_one.predict(encoded_test_df.values)"
   ]
  },
  {
   "cell_type": "code",
   "execution_count": null,
   "metadata": {
    "collapsed": false
   },
   "outputs": [],
   "source": [
    "test_results_csv = extract_features_from_dataframe(test_df, ['PassengerId'])\n",
    "test_results_csv['Survived'] = test_targets\n",
    "test_results_csv.to_csv('./data/first_attempt.csv', index=False)"
   ]
  },
  {
   "cell_type": "markdown",
   "metadata": {},
   "source": [
    "#### Com esse conjunto de dados a gente já consegue prever sobrevivência com uma precisão de 0.76555 no conjunto de dados usado para avaliar as submissões do Kaggle."
   ]
  },
  {
   "cell_type": "markdown",
   "metadata": {},
   "source": [
    "## Inclusão das features \"Cabin\" e \"Fare\""
   ]
  },
  {
   "cell_type": "code",
   "execution_count": null,
   "metadata": {
    "collapsed": false
   },
   "outputs": [],
   "source": [
    "cabin_fare_df = train_df.ix[:, ['Cabin', 'Fare']]\n",
    "cabin_fare_df.info()"
   ]
  },
  {
   "cell_type": "code",
   "execution_count": null,
   "metadata": {
    "collapsed": false
   },
   "outputs": [],
   "source": [
    "len(cabin_fare_df['Cabin'].unique())"
   ]
  },
  {
   "cell_type": "markdown",
   "metadata": {},
   "source": [
    "A feature \"Cabin\" é categórica com um range relativamente grande(148 valores diferentes) e várias entradas vazias. Não é adequado codificar essa feature como uma sequência numérica pois isso implicaria uma ordenação dos valores, o que não condiz com a semântica dessa feature e poderia levar a resultados incoerentes. Essa feature será ignorada nesse momento e analisada por último como uma possível inclusão de informação para melhora do resultado final."
   ]
  },
  {
   "cell_type": "code",
   "execution_count": null,
   "metadata": {
    "collapsed": true
   },
   "outputs": [],
   "source": [
    "def get_tree_for_features(features):\n",
    "    target = train_df['Survived'].values\n",
    "    feature_values = train_df[features].values\n",
    "    \n",
    "    # Da classifier\n",
    "    return (tree.DecisionTreeClassifier().fit(feature_values, target), feature_values, target)"
   ]
  },
  {
   "cell_type": "code",
   "execution_count": null,
   "metadata": {
    "collapsed": false
   },
   "outputs": [],
   "source": [
    "features = ['Sex', 'Child', 'Fare']\n",
    "third_tree, feature_values, target = get_tree_for_features(features)\n",
    "\n",
    "# Score obtido no dataset de treinamento\n",
    "third_tree.score(feature_values, target)"
   ]
  },
  {
   "cell_type": "markdown",
   "metadata": {},
   "source": [
    "Temos uma árvore treinada agora com as features *Sex*, *Child* e *Fare*. Vamos gerar as previsões para o dataset de testes."
   ]
  },
  {
   "cell_type": "code",
   "execution_count": null,
   "metadata": {
    "collapsed": false
   },
   "outputs": [],
   "source": [
    "test_features_df = extract_features_from_dataframe(test_df, ['Sex', 'Age', 'Fare'])\n",
    "# O final da linha abaixo garante que as colunas estarão na ordem correta\n",
    "encoded_test_df = encode_gender_and_child(test_features_df)[features]\n",
    "\n",
    "encoded_test_df['Fare'] = encoded_test_df['Fare'].fillna(encoded_test_df['Fare'].median())\n",
    "encoded_test_df.describe()"
   ]
  },
  {
   "cell_type": "code",
   "execution_count": null,
   "metadata": {
    "collapsed": false
   },
   "outputs": [],
   "source": [
    "test_features = encoded_test_df.values\n",
    "predictions = third_tree.predict(test_features)"
   ]
  },
  {
   "cell_type": "code",
   "execution_count": null,
   "metadata": {
    "collapsed": false
   },
   "outputs": [],
   "source": [
    "test_results_csv = extract_features_from_dataframe(test_df, ['PassengerId'])\n",
    "test_results_csv['Survived'] = predictions\n",
    "test_results_csv.to_csv('./data/second_attempt.csv', index=False)"
   ]
  },
  {
   "cell_type": "markdown",
   "metadata": {},
   "source": [
    "A inclusão da feature 'Fare' fez com que a classificação da submissão melhorasse em cerca de 1% (para 0.77990) - no ranking geral, no entanto, isso foi suficiente para subir 1104 posições lol"
   ]
  },
  {
   "cell_type": "markdown",
   "metadata": {},
   "source": [
    "# Inclusão das features 'SipSp' e 'Parch'"
   ]
  },
  {
   "cell_type": "markdown",
   "metadata": {},
   "source": [
    "Vamos explorar agora o efeito de se adicionar a feature \"SibSp\", que indica quantos irmãos ou cônjuges a pesssoa tinha dentro do navio."
   ]
  },
  {
   "cell_type": "code",
   "execution_count": null,
   "metadata": {
    "collapsed": false
   },
   "outputs": [],
   "source": [
    "original_features = ['Sex', 'Age', 'Fare', 'SibSp']\n",
    "model_features = ['Sex', 'Child', 'Fare', 'SibSp']\n",
    "fourth_tree, feature_values, target = get_tree_for_features(model_features)\n",
    "\n",
    "fourth_tree.score(feature_values, target)"
   ]
  },
  {
   "cell_type": "code",
   "execution_count": null,
   "metadata": {
    "collapsed": false
   },
   "outputs": [],
   "source": [
    "test_features_df = extract_features_from_dataframe(test_df, original_features)\n",
    "encoded_test_df = encode_gender_and_child(test_features_df)[model_features]\n",
    "\n",
    "encoded_test_df['Fare'] = encoded_test_df['Fare'].fillna(encoded_test_df['Fare'].median())\n",
    "\n",
    "test_results_csv = extract_features_from_dataframe(test_df, ['PassengerId'])\n",
    "test_results_csv['Survived'] = fourth_tree.predict(encoded_test_df.values)\n",
    "test_results_csv.to_csv('./data/third_attempt.csv', index=False)"
   ]
  },
  {
   "cell_type": "markdown",
   "metadata": {},
   "source": [
    "A inclusão da feature 'SibSp' piorou o score obtido no conjunto de testes do Kaggle(o score baixou para 0.76555). Uma possível explicação seria a concentração de exemplos com valores 0 e 1 nessa feature para o conjunto de treinamento, o que torna a feature pouco descritiva."
   ]
  },
  {
   "cell_type": "markdown",
   "metadata": {},
   "source": [
    "Vamos tentar usar a feature 'Parch' no lugar de 'SibSp'. Essa feature descreve quantos pais ou filhos uma pessoa tem a  bordo do navio."
   ]
  },
  {
   "cell_type": "code",
   "execution_count": null,
   "metadata": {
    "collapsed": false,
    "scrolled": true
   },
   "outputs": [],
   "source": [
    "train_df.groupby('Parch').describe()"
   ]
  },
  {
   "cell_type": "code",
   "execution_count": null,
   "metadata": {
    "collapsed": false
   },
   "outputs": [],
   "source": [
    "original_features = ['Sex', 'Age', 'Fare', 'Parch']\n",
    "model_features = ['Sex', 'Child', 'Fare', 'Parch']\n",
    "fifth_tree, feature_values, target = get_tree_for_features(model_features)\n",
    "\n",
    "fifth_tree.score(feature_values, target)"
   ]
  },
  {
   "cell_type": "code",
   "execution_count": null,
   "metadata": {
    "collapsed": true
   },
   "outputs": [],
   "source": [
    "test_features_df = extract_features_from_dataframe(test_df, original_features)\n",
    "encoded_test_df = encode_gender_and_child(test_features_df)[model_features]\n",
    "\n",
    "encoded_test_df['Fare'] = encoded_test_df['Fare'].fillna(encoded_test_df['Fare'].median())\n",
    "\n",
    "test_results_csv = extract_features_from_dataframe(test_df, ['PassengerId'])\n",
    "test_results_csv['Survived'] = fifth_tree.predict(encoded_test_df.values)\n",
    "test_results_csv.to_csv('./data/fourth_attempt.csv', index=False)"
   ]
  },
  {
   "cell_type": "markdown",
   "metadata": {},
   "source": [
    "Do mesmo, a inclusão da feature 'Parch' piorou o score no Kaggle(para 0.75120). Essa feature segue uma distribuição parecida com a da feature 'SibSp', o que pode explicar o motivo do resultado também ter sido semelhante."
   ]
  },
  {
   "cell_type": "markdown",
   "metadata": {},
   "source": [
    "# Inclusão da feature 'Pclass'"
   ]
  },
  {
   "cell_type": "markdown",
   "metadata": {},
   "source": [
    "Temos a hipótese de que a inclusão de Pclass não terá muito impacto no score obtido já que ela serve como um proxy para a classe socio-econômica dos passageiros, o que pode já estar representado pela feature 'Fare'."
   ]
  },
  {
   "cell_type": "code",
   "execution_count": null,
   "metadata": {
    "collapsed": false
   },
   "outputs": [],
   "source": [
    "train_df.Pclass.unique()"
   ]
  },
  {
   "cell_type": "code",
   "execution_count": null,
   "metadata": {
    "collapsed": false
   },
   "outputs": [],
   "source": [
    "# Podemos usar a feature Pclass diretamente, já que ela é numérica e não possui entradas em branco\n",
    "features = ['Sex', 'Child', 'Fare', 'Pclass']\n",
    "sixth_tree, feature_values, target = get_tree_for_features(features)\n",
    "\n",
    "sixth_tree.score(feature_values, target)"
   ]
  },
  {
   "cell_type": "markdown",
   "metadata": {},
   "source": [
    "O impacto no score no conjunto de treinamento foi bastante pequeno em relação ao score obtido apenas com as features 'Sex', 'Child' e 'Fare'(0.9135802469135802). Vamos checar se o score permanece semelhante ao se substituir o uso da feature 'Fare' por 'Pclass'."
   ]
  },
  {
   "cell_type": "code",
   "execution_count": null,
   "metadata": {
    "collapsed": false
   },
   "outputs": [],
   "source": [
    "features = ['Sex', 'Child', 'Pclass']\n",
    "seventh_tree, feature_values, target = get_tree_for_features(features)\n",
    "\n",
    "seventh_tree.score(feature_values, target)"
   ]
  },
  {
   "cell_type": "markdown",
   "metadata": {},
   "source": [
    "Interessante :) </br> Será que as cabines mais caras ficavam mais próximas aos botes salva-vidas? Será que nem todas as cabines da primeira classe eram seguras?"
   ]
  },
  {
   "cell_type": "code",
   "execution_count": null,
   "metadata": {
    "collapsed": false
   },
   "outputs": [],
   "source": [
    "first_class = train_df[train_df['Pclass'] == 1]\n",
    "second_class = train_df[train_df['Pclass'] == 2]\n",
    "third_class = train_df[train_df['Pclass'] == 3]"
   ]
  },
  {
   "cell_type": "code",
   "execution_count": null,
   "metadata": {
    "collapsed": false
   },
   "outputs": [],
   "source": [
    "first_class['Survived'].value_counts(normalize=True)"
   ]
  },
  {
   "cell_type": "code",
   "execution_count": null,
   "metadata": {
    "collapsed": false
   },
   "outputs": [],
   "source": [
    "second_class['Survived'].value_counts(normalize=True)"
   ]
  },
  {
   "cell_type": "code",
   "execution_count": null,
   "metadata": {
    "collapsed": false
   },
   "outputs": [],
   "source": [
    "third_class['Survived'].value_counts(normalize=True)"
   ]
  },
  {
   "cell_type": "markdown",
   "metadata": {},
   "source": [
    "### Analisando Embarked"
   ]
  },
  {
   "cell_type": "code",
   "execution_count": null,
   "metadata": {
    "collapsed": false
   },
   "outputs": [],
   "source": [
    "train_df['Embarked'].unique()"
   ]
  },
  {
   "cell_type": "code",
   "execution_count": null,
   "metadata": {
    "collapsed": false
   },
   "outputs": [],
   "source": [
    "train_df['Embarked'].value_counts()"
   ]
  },
  {
   "cell_type": "code",
   "execution_count": null,
   "metadata": {
    "collapsed": false
   },
   "outputs": [],
   "source": [
    "train_df['Embarked'] = train_df['Embarked'].fillna('S')"
   ]
  },
  {
   "cell_type": "code",
   "execution_count": null,
   "metadata": {
    "collapsed": true
   },
   "outputs": [],
   "source": [
    "# ao invés de sobrescrever a feature \"Embarked\", a gente cria uma nova feature que será usada somente\n",
    "# no experimento que estamos fazendo agora\n",
    "\n",
    "train_df['encoded_Embarked'] = train_df['Embarked'].map({'S': 0, 'C': 1, 'Q': 2})"
   ]
  },
  {
   "cell_type": "code",
   "execution_count": null,
   "metadata": {
    "collapsed": false
   },
   "outputs": [],
   "source": [
    "features = ['Sex', 'Child', 'Fare', 'encoded_Embarked']\n",
    "eighth_tree, feature_values, target = get_tree_for_features(features)\n",
    "\n",
    "eighth_tree.score(feature_values, target)"
   ]
  },
  {
   "cell_type": "markdown",
   "metadata": {
    "collapsed": true
   },
   "source": [
    "A inclusão da feature 'Embarked' codificada como números sequenciais não melhorou muito a taxa de acerto anterior(0.9135802469135802). Vamos checar se o uso de One-Hot Encoding faz diferença."
   ]
  },
  {
   "cell_type": "code",
   "execution_count": null,
   "metadata": {
    "collapsed": false
   },
   "outputs": [],
   "source": [
    "embarked_S_indices = train_df['Embarked'] == 'S'\n",
    "embarked_C_indices = train_df['Embarked'] == 'C'\n",
    "embarked_Q_indices = train_df['Embarked'] == 'Q'\n",
    "train_df['Embarked_S'] = 0\n",
    "train_df['Embarked_C'] = 0\n",
    "train_df['Embarked_Q'] = 0\n",
    "train_df.loc[embarked_S_indices, 'Embarked_S'] = 1\n",
    "train_df.loc[embarked_C_indices, 'Embarked_C'] = 1\n",
    "train_df.loc[embarked_Q_indices, 'Embarked_Q'] = 1"
   ]
  },
  {
   "cell_type": "code",
   "execution_count": null,
   "metadata": {
    "collapsed": false
   },
   "outputs": [],
   "source": [
    "features = ['Sex', 'Child', 'Fare', 'Embarked_S', 'Embarked_C', 'Embarked_Q']\n",
    "ninth_tree, feature_values, target = get_tree_for_features(features)\n",
    "\n",
    "ninth_tree.score(feature_values, target)"
   ]
  },
  {
   "cell_type": "markdown",
   "metadata": {},
   "source": [
    "O score permaneceu inalterado, o que invalida nossa hipótese anterior. Vamos checar como a árvore está processando a feature 'Embarked' com a codificação numérica."
   ]
  },
  {
   "cell_type": "code",
   "execution_count": null,
   "metadata": {
    "collapsed": false
   },
   "outputs": [],
   "source": [
    "plot_tree(eighth_tree)"
   ]
  },
  {
   "cell_type": "markdown",
   "metadata": {},
   "source": [
    "Pode-se notar que a árvore usa a feature 'Embarked' em várias etapas durante o caminho que ela percorre para tomar uma decisão. Isso pode explicar o motivo de a codificação ingênua ter funcionado bem, pois apesar de se ter introduzido uma semântica de ordem, o fato de a árvore realizar vários \"cortes\" nos valores dessa feature faz com que, na prática, ela identifique as diferentes categorias abrangidas pela feature."
   ]
  },
  {
   "cell_type": "markdown",
   "metadata": {},
   "source": [
    "## Seleção automática de features"
   ]
  },
  {
   "cell_type": "code",
   "execution_count": null,
   "metadata": {
    "collapsed": false
   },
   "outputs": [],
   "source": [
    "train_df.info()"
   ]
  },
  {
   "cell_type": "code",
   "execution_count": null,
   "metadata": {
    "collapsed": true
   },
   "outputs": [],
   "source": [
    "def impute_null_attributes(dataset):\n",
    "    imputed_dataset = dataset.copy()\n",
    "    for attribute in dataset:\n",
    "        if dataset[attribute].dtype == 'O':\n",
    "            imputed_dataset[attribute] = imputed_dataset[attribute].fillna(dataset[attribute].dropna().mode()[0])\n",
    "        elif dataset[attribute].dtype in ('int64', 'float64'):\n",
    "            imputed_dataset[attribute] = imputed_dataset[attribute].fillna(dataset[attribute].dropna().median())\n",
    "\n",
    "    return imputed_dataset"
   ]
  },
  {
   "cell_type": "code",
   "execution_count": null,
   "metadata": {
    "collapsed": true
   },
   "outputs": [],
   "source": [
    "imputed_dataset = impute_null_attributes(train_df.drop(['Name', 'Survived'], 1))"
   ]
  },
  {
   "cell_type": "code",
   "execution_count": null,
   "metadata": {
    "collapsed": false
   },
   "outputs": [],
   "source": [
    "def encode_object_attributes(dataset):\n",
    "    encoded_dataset = dataset.copy()\n",
    "    for attribute in dataset:\n",
    "        if dataset[attribute].dtype == 'O':\n",
    "            encoded_dataset[attribute], _ = pd.factorize(encoded_dataset[attribute])\n",
    "\n",
    "    return encoded_dataset"
   ]
  },
  {
   "cell_type": "code",
   "execution_count": null,
   "metadata": {
    "collapsed": false
   },
   "outputs": [],
   "source": [
    "encoded_dataset = encode_object_attributes(imputed_dataset)"
   ]
  },
  {
   "cell_type": "code",
   "execution_count": null,
   "metadata": {
    "collapsed": false
   },
   "outputs": [],
   "source": [
    "encoded_dataset.describe()"
   ]
  },
  {
   "cell_type": "code",
   "execution_count": null,
   "metadata": {
    "collapsed": false
   },
   "outputs": [],
   "source": [
    "target = train_df['Survived'].values\n",
    "feature_values = encoded_dataset.values\n",
    "    \n",
    "all_features_tree = tree.DecisionTreeClassifier().fit(feature_values, target)"
   ]
  },
  {
   "cell_type": "code",
   "execution_count": null,
   "metadata": {
    "collapsed": false
   },
   "outputs": [],
   "source": [
    "plot_tree(all_features_tree)"
   ]
  },
  {
   "cell_type": "code",
   "execution_count": null,
   "metadata": {
    "collapsed": false
   },
   "outputs": [],
   "source": [
    "all_features_tree.score(feature_values, target)"
   ]
  },
  {
   "cell_type": "code",
   "execution_count": null,
   "metadata": {
    "collapsed": true
   },
   "outputs": [],
   "source": [
    "encoded_test_df = encode_object_attributes(impute_null_attributes(test_df.drop(['Name'], 1)))"
   ]
  },
  {
   "cell_type": "code",
   "execution_count": null,
   "metadata": {
    "collapsed": false
   },
   "outputs": [],
   "source": [
    "test_results_csv = extract_features_from_dataframe(encoded_test_df, ['PassengerId'])\n",
    "test_results_csv['Survived'] = all_features_tree.predict(encoded_test_df.values)\n",
    "test_results_csv.to_csv('./data/all_features_attempt.csv', index=False)"
   ]
  },
  {
   "cell_type": "markdown",
   "metadata": {},
   "source": [
    "A submissão atual melhorou a melhor submissão até agora em 0.00957, resultando em uma pontuação final de 0.77512. Deve-se notar, no entanto, a presença de overfitting no conjunto de treinamento."
   ]
  },
  {
   "cell_type": "markdown",
   "metadata": {
    "collapsed": true
   },
   "source": [
    "## Seleção automática com SelectKBest"
   ]
  },
  {
   "cell_type": "code",
   "execution_count": null,
   "metadata": {
    "collapsed": false
   },
   "outputs": [],
   "source": [
    "from sklearn.feature_selection import SelectKBest\n",
    "from sklearn.feature_selection import chi2\n",
    "\n",
    "selector = SelectKBest(chi2, k=3).fit(encoded_dataset, target)"
   ]
  },
  {
   "cell_type": "code",
   "execution_count": null,
   "metadata": {
    "collapsed": false
   },
   "outputs": [],
   "source": [
    "selector.get_support()"
   ]
  },
  {
   "cell_type": "code",
   "execution_count": null,
   "metadata": {
    "collapsed": false
   },
   "outputs": [],
   "source": [
    "selected_feature_values = selector.transform(encoded_dataset)"
   ]
  },
  {
   "cell_type": "code",
   "execution_count": null,
   "metadata": {
    "collapsed": false
   },
   "outputs": [],
   "source": [
    "kbest_tree = tree.DecisionTreeClassifier().fit(selected_feature_values, target)"
   ]
  },
  {
   "cell_type": "code",
   "execution_count": null,
   "metadata": {
    "collapsed": false
   },
   "outputs": [],
   "source": [
    "kbest_tree.score(selected_feature_values, target)\n"
   ]
  },
  {
   "cell_type": "code",
   "execution_count": null,
   "metadata": {
    "collapsed": true
   },
   "outputs": [],
   "source": [
    "test_results_csv = extract_features_from_dataframe(encoded_test_df, ['PassengerId'])\n",
    "# filtrando as features baseado no resultado de selector.get_support()\n",
    "selected_test_features_df = extract_features_from_dataframe(encoded_test_df, ['Ticket', 'Fare','Cabin'])\n",
    "test_results_csv['Survived'] = kbest_tree.predict(selected_test_features_df.values)\n",
    "test_results_csv.to_csv('./data/kbest_features_attempt.csv', index=False)"
   ]
  },
  {
   "cell_type": "code",
   "execution_count": null,
   "metadata": {
    "collapsed": true
   },
   "outputs": [],
   "source": []
  }
 ],
 "metadata": {
  "kernelspec": {
   "display_name": "Python 3",
   "language": "python",
   "name": "python3"
  },
  "language_info": {
   "codemirror_mode": {
    "name": "ipython",
    "version": 3
   },
   "file_extension": ".py",
   "mimetype": "text/x-python",
   "name": "python",
   "nbconvert_exporter": "python",
   "pygments_lexer": "ipython3",
   "version": "3.4.4"
  }
 },
 "nbformat": 4,
 "nbformat_minor": 0
}
